{
  "nbformat": 4,
  "nbformat_minor": 0,
  "metadata": {
    "colab": {
      "name": "Statics_Warmup.ipynb",
      "version": "0.3.2",
      "provenance": [],
      "include_colab_link": true
    },
    "kernelspec": {
      "name": "python3",
      "display_name": "Python 3"
    }
  },
  "cells": [
    {
      "cell_type": "markdown",
      "metadata": {
        "id": "view-in-github",
        "colab_type": "text"
      },
      "source": [
        "<a href=\"https://colab.research.google.com/github/piyushdhamagye/ML-Programs/blob/master/Statics_Warmup.ipynb\" target=\"_parent\"><img src=\"https://colab.research.google.com/assets/colab-badge.svg\" alt=\"Open In Colab\"/></a>"
      ]
    },
    {
      "cell_type": "code",
      "metadata": {
        "id": "rRu-g4A0RCuV",
        "colab_type": "code",
        "colab": {
          "base_uri": "https://localhost:8080/",
          "height": 187
        },
        "outputId": "b78d6926-1769-4173-8b1a-c9588b181fe0"
      },
      "source": [
        "import numpy as np\n",
        "from scipy import stats\n",
        "n=int(input())\n",
        "x=[int(input()) for i in range(n)]\n",
        "  \n",
        "print(np.mean(x))\n",
        "print(np.median(x))\n",
        "print(stats.mode(x))\n",
        "print(np.std(x))"
      ],
      "execution_count": 1,
      "outputs": [
        {
          "output_type": "stream",
          "text": [
            "5\n",
            "54\n",
            "54546\n",
            "6464\n",
            "456\n",
            "646166\n",
            "141537.2\n",
            "6464.0\n",
            "ModeResult(mode=array([54]), count=array([1]))\n",
            "253133.90326102113\n"
          ],
          "name": "stdout"
        }
      ]
    },
    {
      "cell_type": "code",
      "metadata": {
        "id": "3EJcTbeZRIQb",
        "colab_type": "code",
        "colab": {}
      },
      "source": [
        ""
      ],
      "execution_count": 0,
      "outputs": []
    }
  ]
}