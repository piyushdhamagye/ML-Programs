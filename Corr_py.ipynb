{
  "nbformat": 4,
  "nbformat_minor": 0,
  "metadata": {
    "colab": {
      "name": "Corr_py.ipynb",
      "version": "0.3.2",
      "provenance": [],
      "include_colab_link": true
    },
    "kernelspec": {
      "name": "python3",
      "display_name": "Python 3"
    }
  },
  "cells": [
    {
      "cell_type": "markdown",
      "metadata": {
        "id": "view-in-github",
        "colab_type": "text"
      },
      "source": [
        "<a href=\"https://colab.research.google.com/github/piyushdhamagye/ML-Programs/blob/master/Corr_py.ipynb\" target=\"_parent\"><img src=\"https://colab.research.google.com/assets/colab-badge.svg\" alt=\"Open In Colab\"/></a>"
      ]
    },
    {
      "cell_type": "code",
      "metadata": {
        "id": "dr9hodUcQkOh",
        "colab_type": "code",
        "colab": {
          "base_uri": "https://localhost:8080/",
          "height": 34
        },
        "outputId": "c49c0ba2-a3a5-487a-b3ad-c275621c1279"
      },
      "source": [
        "import numpy as np\n",
        "\n",
        "physics = [15,12,8,8,7,7,7,6,5,3]\n",
        "\n",
        "history = [10,25,17,11,13,17,20,13,9,15]\n",
        "\n",
        "std1 = np.std(physics)\n",
        "\n",
        "std2 = np.std(history)\n",
        "\n",
        "covar = np.cov(physics,history, bias=True)[0][1]\n",
        "\n",
        "r = covar/(std1*std2)\n",
        "print(r)\n"
      ],
      "execution_count": 1,
      "outputs": [
        {
          "output_type": "stream",
          "text": [
            "0.1449981545806852\n"
          ],
          "name": "stdout"
        }
      ]
    }
  ]
}